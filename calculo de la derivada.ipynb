{
 "cells": [
  {
   "cell_type": "markdown",
   "metadata": {},
   "source": [
    "# calculo de derivada para $\\delta$=$10^{-2}$ usando def de limitem, calculo de la analitica y error porcentual"
   ]
  },
  {
   "cell_type": "code",
   "execution_count": 1,
   "metadata": {},
   "outputs": [
    {
     "name": "stdout",
     "output_type": "stream",
     "text": [
      "valor obtenido para 0.01  es...: 1.010000000000001\n",
      "valor analitico es..: 1\n",
      "error porcentual obtenido es...: 1.0000000000000897\n"
     ]
    }
   ],
   "source": [
    "d=1e-2\n",
    "x=1\n",
    "anali=x-1+x\n",
    "dev=(((x+d)*(x+d-1))-(x*(x-1)))/d\n",
    "print(\"valor obtenido para\",d,\" es...:\",dev)\n",
    "print(\"valor analitico es..:\",anali)\n",
    "print(\"error porcentual obtenido es...:\",(abs(anali-dev)*100))"
   ]
  },
  {
   "cell_type": "markdown",
   "metadata": {},
   "source": [
    "# calcluo de la derivada para $\\delta$ de $10^{-2}$ a $10^{-14}$"
   ]
  },
  {
   "cell_type": "code",
   "execution_count": 2,
   "metadata": {},
   "outputs": [
    {
     "name": "stdout",
     "output_type": "stream",
     "text": [
      "\n",
      "b= [0.01, 0.0001, 1e-06, 1e-08, 1e-10, 1e-12, 1e-14]\n",
      "\n",
      "valor obtenido para  0.01  es...: 1.010000000000001\n",
      "error porcentual(100%) para 0.01 es...: 1.0000000000000897\n",
      "\n",
      "valor obtenido para  0.0001  es...: 1.0000999999998899\n",
      "error porcentual(100%) para 0.0001 es...: 0.009999999988985486\n",
      "\n",
      "valor obtenido para  1e-06  es...: 1.0000009999177333\n",
      "error porcentual(100%) para 1e-06 es...: 9.99917733279787e-05\n",
      "\n",
      "valor obtenido para  1e-08  es...: 1.0000000039225287\n",
      "error porcentual(100%) para 1e-08 es...: 3.9225287462585356e-07\n",
      "\n",
      "valor obtenido para  1e-10  es...: 1.000000082840371\n",
      "error porcentual(100%) para 1e-10 es...: 8.284037100736441e-06\n",
      "\n",
      "valor obtenido para  1e-12  es...: 1.0000889005833413\n",
      "error porcentual(100%) para 1e-12 es...: 0.008890058334132256\n",
      "\n",
      "valor obtenido para  1e-14  es...: 0.9992007221626509\n",
      "error porcentual(100%) para 1e-14 es...: 0.07992778373491216\n"
     ]
    }
   ],
   "source": [
    "X=1\n",
    "b=[]\n",
    "for j in range(2, 16, 2):\n",
    "    delta=10**-j\n",
    "    b.append(delta)\n",
    "print('\\nb=',b)\n",
    "for j in b:\n",
    "    dev=(((x+j)*(x+j-1))-(x*(x-1)))/j\n",
    "    error=abs(1-dev)*100\n",
    "    print(\"\\nvalor obtenido para \",j ,\" es...:\",dev)\n",
    "    print(\"error porcentual(100%) para\",j,\"es...:\",error)"
   ]
  },
  {
   "cell_type": "markdown",
   "metadata": {},
   "source": [
    "De lo obtenido se puede decir que el error disminuye cuando  $\\delta$ es de $10^{-2}$ a $10^{-8}$ luego el error empieza a umentar cunado el $\\delta$ se hace mas pequeño "
   ]
  },
  {
   "cell_type": "code",
   "execution_count": null,
   "metadata": {},
   "outputs": [],
   "source": []
  }
 ],
 "metadata": {
  "kernelspec": {
   "display_name": "Python 3",
   "language": "python",
   "name": "python3"
  },
  "language_info": {
   "codemirror_mode": {
    "name": "ipython",
    "version": 3
   },
   "file_extension": ".py",
   "mimetype": "text/x-python",
   "name": "python",
   "nbconvert_exporter": "python",
   "pygments_lexer": "ipython3",
   "version": "3.5.2"
  }
 },
 "nbformat": 4,
 "nbformat_minor": 2
}
